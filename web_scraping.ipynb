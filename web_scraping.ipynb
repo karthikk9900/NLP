{
  "nbformat": 4,
  "nbformat_minor": 0,
  "metadata": {
    "colab": {
      "provenance": [],
      "include_colab_link": true
    },
    "kernelspec": {
      "name": "python3",
      "display_name": "Python 3"
    },
    "language_info": {
      "name": "python"
    }
  },
  "cells": [
    {
      "cell_type": "markdown",
      "metadata": {
        "id": "view-in-github",
        "colab_type": "text"
      },
      "source": [
        "<a href=\"https://colab.research.google.com/github/karthikk9900/NLP/blob/main/web_scraping.ipynb\" target=\"_parent\"><img src=\"https://colab.research.google.com/assets/colab-badge.svg\" alt=\"Open In Colab\"/></a>"
      ]
    },
    {
      "cell_type": "code",
      "execution_count": null,
      "metadata": {
        "colab": {
          "base_uri": "https://localhost:8080/"
        },
        "id": "FOxoh7tLdv6p",
        "outputId": "d36814ec-7857-46db-c1e1-a07efdd3c5c0"
      },
      "outputs": [
        {
          "output_type": "stream",
          "name": "stdout",
          "text": [
            "Requirement already satisfied: requests in /usr/local/lib/python3.11/dist-packages (2.32.3)\n",
            "Requirement already satisfied: Beautifulsoup4 in /usr/local/lib/python3.11/dist-packages (4.13.3)\n",
            "Requirement already satisfied: charset-normalizer<4,>=2 in /usr/local/lib/python3.11/dist-packages (from requests) (3.4.1)\n",
            "Requirement already satisfied: idna<4,>=2.5 in /usr/local/lib/python3.11/dist-packages (from requests) (3.10)\n",
            "Requirement already satisfied: urllib3<3,>=1.21.1 in /usr/local/lib/python3.11/dist-packages (from requests) (2.3.0)\n",
            "Requirement already satisfied: certifi>=2017.4.17 in /usr/local/lib/python3.11/dist-packages (from requests) (2025.1.31)\n",
            "Requirement already satisfied: soupsieve>1.2 in /usr/local/lib/python3.11/dist-packages (from Beautifulsoup4) (2.6)\n",
            "Requirement already satisfied: typing-extensions>=4.0.0 in /usr/local/lib/python3.11/dist-packages (from Beautifulsoup4) (4.12.2)\n"
          ]
        }
      ],
      "source": [
        "!pip install requests Beautifulsoup4"
      ]
    },
    {
      "cell_type": "code",
      "source": [
        "import requests\n",
        "from bs4 import BeautifulSoup\n",
        "url=\"http://quotes.toscrape.com/\"\n",
        "response=requests.get(url)\n",
        "if response.status_code==200:\n",
        "  soup=BeautifulSoup(response.text,\"html.parser\")\n",
        "  quotes=soup.find_all(\"div\",class_=\"quote\")\n",
        "  for i,quote in enumerate(quotes,start=1):\n",
        "    text=quote.find(\"span\",class_=\"text\").text\n",
        "    author=quote.find(\"small\",class_=\"author\").text\n",
        "    tags=[tag.text for tag in quote.find_all(\"a\",class_=\"tag\")]\n",
        "\n",
        "    print(f\"{i+1}.\\\"{text}\\\" -{author}\")\n",
        "    print(f\"Tags:{', '.join(tags)}\\n\")\n",
        "else:\n",
        "  print(\"Failed to retrieve the webpage\",response.status_code)"
      ],
      "metadata": {
        "colab": {
          "base_uri": "https://localhost:8080/"
        },
        "id": "H3OwYGo2eCbJ",
        "outputId": "70a93449-56bf-49cd-9f75-8ea442a4e386"
      },
      "execution_count": null,
      "outputs": [
        {
          "output_type": "stream",
          "name": "stdout",
          "text": [
            "2.\"“The world as we have created it is a process of our thinking. It cannot be changed without changing our thinking.”\" -Albert Einstein\n",
            "Tags:change, deep-thoughts, thinking, world\n",
            "\n",
            "3.\"“It is our choices, Harry, that show what we truly are, far more than our abilities.”\" -J.K. Rowling\n",
            "Tags:abilities, choices\n",
            "\n",
            "4.\"“There are only two ways to live your life. One is as though nothing is a miracle. The other is as though everything is a miracle.”\" -Albert Einstein\n",
            "Tags:inspirational, life, live, miracle, miracles\n",
            "\n",
            "5.\"“The person, be it gentleman or lady, who has not pleasure in a good novel, must be intolerably stupid.”\" -Jane Austen\n",
            "Tags:aliteracy, books, classic, humor\n",
            "\n",
            "6.\"“Imperfection is beauty, madness is genius and it's better to be absolutely ridiculous than absolutely boring.”\" -Marilyn Monroe\n",
            "Tags:be-yourself, inspirational\n",
            "\n",
            "7.\"“Try not to become a man of success. Rather become a man of value.”\" -Albert Einstein\n",
            "Tags:adulthood, success, value\n",
            "\n",
            "8.\"“It is better to be hated for what you are than to be loved for what you are not.”\" -André Gide\n",
            "Tags:life, love\n",
            "\n",
            "9.\"“I have not failed. I've just found 10,000 ways that won't work.”\" -Thomas A. Edison\n",
            "Tags:edison, failure, inspirational, paraphrased\n",
            "\n",
            "10.\"“A woman is like a tea bag; you never know how strong it is until it's in hot water.”\" -Eleanor Roosevelt\n",
            "Tags:misattributed-eleanor-roosevelt\n",
            "\n",
            "11.\"“A day without sunshine is like, you know, night.”\" -Steve Martin\n",
            "Tags:humor, obvious, simile\n",
            "\n"
          ]
        }
      ]
    },
    {
      "cell_type": "code",
      "source": [
        "import requests\n",
        "from bs4 import BeautifulSoup\n",
        "city=\"india/hyderabad\"\n",
        "\n",
        "\n",
        "url=f\"https://www.timeanddate.com/weather/{city}\"\n",
        "response=requests.get(url)\n",
        "soup=BeautifulSoup(response.text,\"html.parser\")\n",
        "temp=soup.find(\"div\",class_=\"h2\").text.strip() if soup.find(\"div\",class_=\"h2\") else \"N/A\"\n",
        "desc=soup.find(\"p\").text.strip() if soup.find(\"p\") else \"N/A\"\n",
        "\n",
        "print(f\"Current Weather in Hyderabad: {temp} | {desc}\")"
      ],
      "metadata": {
        "colab": {
          "base_uri": "https://localhost:8080/"
        },
        "id": "xWfT1SpOhaos",
        "outputId": "2f9cd7cc-556e-46e2-871e-56dcb74a3ff0"
      },
      "execution_count": null,
      "outputs": [
        {
          "output_type": "stream",
          "name": "stdout",
          "text": [
            "Current Weather in Hyderabad: 86 °F | Clear.\n"
          ]
        }
      ]
    },
    {
      "cell_type": "code",
      "source": [
        "import requests\n",
        "from bs4 import BeautifulSoup\n",
        "city=\"india/hyderabad\"\n",
        "\n",
        "\n",
        "url=f\"https://www.timeanddate.com/weather/{city}\"\n",
        "response=requests.get(url)\n",
        "soup=BeautifulSoup(response.text,\"html.parser\")\n",
        "temp=soup.find(\"div\",class_=\"h2\").text.strip() if soup.find(\"div\",class_=\"h2\") else \"N/A\"\n",
        "desc=soup.find(\"p\").text.strip() if soup.find(\"p\") else \"N/A\"\n",
        "\n",
        "print(f\"Current Weather in Hyderabad: {temp} | {desc}\")"
      ],
      "metadata": {
        "colab": {
          "base_uri": "https://localhost:8080/"
        },
        "id": "hDZ2n36liUdB",
        "outputId": "7f380088-1ff8-42fb-c15e-e2fcc9704b30"
      },
      "execution_count": null,
      "outputs": [
        {
          "output_type": "stream",
          "name": "stdout",
          "text": [
            "Current Weather in Hyderabad: 86 °F | Clear.\n"
          ]
        }
      ]
    },
    {
      "cell_type": "code",
      "source": [
        "import requests\n",
        "from bs4 import BeautifulSoup\n",
        "\n",
        "search_url=\"https://www.amazon.in/s?k=iPhone+15+plus\"\n",
        "headers = {\n",
        "    \"User-Agent\": \"Mozilla/5.0 (Windows NT 10.0; Win64; x64) AppleWebKit/537.36 (KHTML, like Gecko) Chrome/118.0.0.0 Safari/537.36\",\n",
        "    \"Accept-Language\": \"en-US,en;q=0.9\",\n",
        "}\n",
        "if response.status_code == 200:\n",
        "  response=requests.get(search_url,headers=headers)\n",
        "  soup=BeautifulSoup(response.text,\"html.parser\")\n",
        "  product=soup.select_one(\"span.a-size-medium\")\n",
        "  price=soup.select_one(\"span-price-whole\")\n",
        "\n",
        "  if  product and price:\n",
        "    print(f\"Product Name:{product.text.strip()}\")\n",
        "    print(f\"Price: Rs.{price.text.strip()}\")\n",
        "else:\n",
        "  print(\"could not find product details.\")\n"
      ],
      "metadata": {
        "id": "pAhZXIokiZjw"
      },
      "execution_count": null,
      "outputs": []
    },
    {
      "cell_type": "code",
      "source": [
        "import requests\n",
        "from bs4 import BeautifulSoup\n",
        "\n",
        "search_url = \"https://www.amazon.in/s?k=iPhone+15+plus\"\n",
        "headers = {\n",
        "    \"User-Agent\": \"Mozilla/5.0 (Windows NT 10.0; Win64; x64) AppleWebKit/537.36 (KHTML, like Gecko) Chrome/118.0.0.0 Safari/537.36\",\n",
        "    \"Accept-Language\": \"en-US,en;q=0.9\",\n",
        "}\n",
        "\n",
        "response = requests.get(search_url, headers=headers)\n",
        "\n",
        "if response.status_code == 200:\n",
        "    soup = BeautifulSoup(response.text, \"html.parser\")\n",
        "\n",
        "    product = soup.select_one(\"span.a-size-medium\")\n",
        "    price = soup.select_one(\"span.a-price-whole\")\n",
        "\n",
        "    if product and price:\n",
        "        print(f\"Product Name: {product.text.strip()}\")\n",
        "        print(f\"Price: Rs.{price.text.strip()}\")\n",
        "    else:\n",
        "        print(\"Could not find product details.\")\n",
        "else:\n",
        "    print(\"Failed to retrieve the page. Status Code:\", response.status_code)\n"
      ],
      "metadata": {
        "colab": {
          "base_uri": "https://localhost:8080/"
        },
        "id": "4XECx1WEkJEW",
        "outputId": "cb39569a-3910-4042-9523-d9161f11a862"
      },
      "execution_count": null,
      "outputs": [
        {
          "output_type": "stream",
          "name": "stdout",
          "text": [
            "Product Name: iPhone 15 Plus. Newphoria\n",
            "Price: Rs.70,900\n"
          ]
        }
      ]
    },
    {
      "cell_type": "code",
      "source": [
        "import requests\n",
        "from bs4 import BeautifulSoup\n",
        "\n",
        "search_url = \"https://www.amazon.in/MSI-i9-14900HX-45-72CM-MiniLED-A14VHG-207IN/dp/B0CV75ZNX4?crid=2PUPKPFHALRP6&dib=eyJ2IjoiMSJ9.sLO2hLaqabEnhvlbGskeL2ckUfajbcq32SiT3UaAHZYsrfd88RwUA726Mlm1BJKIc0QzDhkYA6qeLXAePTjHT6M7bP2HZ-aURcOdAAmvfPW8Z-mCLb_9NHyYX1t8sccibS2aNcgwjm6qh7wyqeSg4EQAlRlGWw80HbrXb76qPd6dRUW-rhjl4vEEsStVyfOyJ71oTW_hLsYRamNtbifHPhhwpP6tUHrQ6C3ZHJ29tY8.cQ5aMZQiEewk-cEDQOoIZoSv3u9Oo7bfPs5WwEWbvLA&dib_tag=se&keywords=msi+titan+18hx&nsdOptOutParam=true&qid=1739857531&sprefix=18hx%2Caps%2C196&sr=8-3\"\n",
        "headers = {\n",
        "    \"User-Agent\": \"Mozilla/5.0 (Windows NT 10.0; Win64; x64) AppleWebKit/537.36 (KHTML, like Gecko) Chrome/118.0.0.0 Safari/537.36\",\n",
        "    \"Accept-Language\": \"en-US,en;q=0.9\",\n",
        "}\n",
        "\n",
        "response = requests.get(search_url, headers=headers)\n",
        "\n",
        "if response.status_code == 200:\n",
        "    soup = BeautifulSoup(response.text, \"html.parser\")\n",
        "\n",
        "    product = soup.select_one(\"span.a-size-medium\")\n",
        "    price = soup.select_one(\"span.a-price-whole\")\n",
        "\n",
        "    if product and price:\n",
        "        print(f\"Product Name: {product.text.strip()}\")\n",
        "        print(f\"Price: Rs.{price.text.strip()}\")\n",
        "    else:\n",
        "        print(\"Could not find product details.\")\n",
        "else:\n",
        "    print(\"Failed to retrieve the page. Status Code:\", response.status_code)\n"
      ],
      "metadata": {
        "colab": {
          "base_uri": "https://localhost:8080/"
        },
        "id": "Gj6H7FiwlAle",
        "outputId": "4d49eb20-9d0a-4c82-9ebb-b575b25f6b80"
      },
      "execution_count": null,
      "outputs": [
        {
          "output_type": "stream",
          "name": "stdout",
          "text": [
            "Product Name: Which product would you like to exchange?\n",
            "Price: Rs.3,99,990.\n"
          ]
        }
      ]
    },
    {
      "cell_type": "code",
      "source": [
        "import requests\n",
        "from bs4 import BeautifulSoup\n",
        "url=\"https://en.wikipedia.org/wiki/List_of_countries_and_dependencies_by_population\"\n",
        "response=requests.get(url,headers=headers)\n",
        "soup=BeautifulSoup(response.text,\"html.parser\")\n",
        "table=soup.find(\"table\",class_=\"wikitable\")\n",
        "for row in table.find_all(\"tr\")[1:6]:\n",
        "  columns=row.find_all(\"td\")\n",
        "  country=columns[1].text.strip()\n",
        "  population=columns[2].text.strip()\n",
        "  print(f\"{country}:{population}\")"
      ],
      "metadata": {
        "colab": {
          "base_uri": "https://localhost:8080/"
        },
        "id": "SmVPiF2rl15Q",
        "outputId": "e7e8dc45-5b2c-4b2d-884c-e0f756f9b298"
      },
      "execution_count": null,
      "outputs": [
        {
          "output_type": "stream",
          "name": "stdout",
          "text": [
            "World:8,119,000,000\n",
            "China:1,408,280,000\n",
            "1,402,737,000:17.2%\n",
            "United States:340,110,988\n",
            "Indonesia:282,477,584\n"
          ]
        }
      ]
    },
    {
      "cell_type": "code",
      "source": [
        "from IPython.display import display,HTML"
      ],
      "metadata": {
        "id": "Yqs6orWdnYA-"
      },
      "execution_count": null,
      "outputs": []
    },
    {
      "cell_type": "code",
      "source": [
        "display (HTML(\"\"\"<table>\n",
        "<tr>\n",
        "<th>company</th>\n",
        "<th>contact</th>\n",
        "<th>country</th>\n",
        "</tr>\n",
        "<td>Alfreds Futterkiste</td>\n",
        "<td>Maria Anders</td>\n",
        "<td>Germany</td>\n",
        "</tr>\n",
        "<tr>\n",
        "<td>Centro comercial Moctezuma</td>\n",
        "<td>Francisco Chang</td>\n",
        "<td>Mexico</td>\n",
        "</tr>\n",
        "</table>\n",
        "\"\"\"))"
      ],
      "metadata": {
        "colab": {
          "base_uri": "https://localhost:8080/",
          "height": 80
        },
        "id": "muf2nnKhoXg6",
        "outputId": "2b3d52c8-f964-4e8e-c7f8-f5fc2aea3682"
      },
      "execution_count": null,
      "outputs": [
        {
          "output_type": "display_data",
          "data": {
            "text/plain": [
              "<IPython.core.display.HTML object>"
            ],
            "text/html": [
              "<table>\n",
              "<tr>\n",
              "<th>company</th>\n",
              "<th>contact</th>\n",
              "<th>country</th>\n",
              "</tr>\n",
              "<td>Alfreds Futterkiste</td>\n",
              "<td>Maria Anders</td>\n",
              "<td>Germany</td>\n",
              "</tr>\n",
              "<tr>\n",
              "<td>Centro comercial Moctezuma</td>\n",
              "<td>Francisco Chang</td>\n",
              "<td>Mexico</td>\n",
              "</tr>\n",
              "</table>\n"
            ]
          },
          "metadata": {}
        }
      ]
    },
    {
      "cell_type": "code",
      "source": [],
      "metadata": {
        "id": "SKqtQ8Fho7vC"
      },
      "execution_count": null,
      "outputs": []
    }
  ]
}