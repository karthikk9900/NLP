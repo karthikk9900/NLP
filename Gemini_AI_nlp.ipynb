{
  "nbformat": 4,
  "nbformat_minor": 0,
  "metadata": {
    "colab": {
      "provenance": [],
      "include_colab_link": true
    },
    "kernelspec": {
      "name": "python3",
      "display_name": "Python 3"
    },
    "language_info": {
      "name": "python"
    }
  },
  "cells": [
    {
      "cell_type": "markdown",
      "metadata": {
        "id": "view-in-github",
        "colab_type": "text"
      },
      "source": [
        "<a href=\"https://colab.research.google.com/github/karthikk9900/NLP/blob/main/Gemini_AI_nlp.ipynb\" target=\"_parent\"><img src=\"https://colab.research.google.com/assets/colab-badge.svg\" alt=\"Open In Colab\"/></a>"
      ]
    },
    {
      "cell_type": "code",
      "execution_count": null,
      "metadata": {
        "id": "4xX2N3BsdVrs"
      },
      "outputs": [],
      "source": [
        "%pip install -U -q \"google-generativeai>=0.7.2\""
      ]
    },
    {
      "cell_type": "code",
      "source": [
        "import google.generativeai as genai\n",
        "from google.colab import userdata\n",
        "\n",
        "GOOGLE_API_KEY=userdata.get(\"GOOGLE_API_KEY\")\n",
        "genai.configure(api_key=GOOGLE_API_KEY)"
      ],
      "metadata": {
        "id": "nm91hgtKdtyq"
      },
      "execution_count": null,
      "outputs": []
    },
    {
      "cell_type": "code",
      "source": [
        "model=genai.GenerativeModel('models/gemini-2.0-flash')\n",
        "response=model.generate_content(\"how many ipl did csk win?\")\n",
        "print(response.text)"
      ],
      "metadata": {
        "colab": {
          "base_uri": "https://localhost:8080/",
          "height": 53
        },
        "id": "CBC2qj3KgmDX",
        "outputId": "9fbc81cc-8515-4ccb-d502-d126dee1dde8"
      },
      "execution_count": null,
      "outputs": [
        {
          "output_type": "stream",
          "name": "stdout",
          "text": [
            "Chennai Super Kings (CSK) has won the IPL **5 times**.\n",
            "\n"
          ]
        }
      ]
    },
    {
      "cell_type": "code",
      "source": [
        "from google import genai\n",
        "from google.genai import types\n",
        "\n",
        "client = genai.Client(api_key=GOOGLE_API_KEY)"
      ],
      "metadata": {
        "id": "wjpjq5J1h1Av"
      },
      "execution_count": null,
      "outputs": []
    },
    {
      "cell_type": "code",
      "source": [
        "response=model.generate_content(\"say about malla reddy university\")\n",
        "print(response.text)"
      ],
      "metadata": {
        "colab": {
          "base_uri": "https://localhost:8080/",
          "height": 621
        },
        "id": "zsjp3E2Zjo2D",
        "outputId": "9270b601-5119-462e-c5af-97188b02ecf8"
      },
      "execution_count": null,
      "outputs": [
        {
          "output_type": "stream",
          "name": "stdout",
          "text": [
            "Malla Reddy University (MRU) is a private university located in Hyderabad, Telangana, India. Here's a summary of what's generally known and said about it:\n",
            "\n",
            "**Key Aspects:**\n",
            "\n",
            "*   **Reputation and Accreditation:** Malla Reddy University is a relatively new university, established in 2020. It's part of the larger Malla Reddy Group of Institutions, which has a longer history. While the group has been around for a while, the university itself is still establishing its reputation.\n",
            "*   **Courses Offered:** MRU offers a wide range of undergraduate and postgraduate programs in engineering, management, pharmacy, science, and humanities. Engineering programs, particularly in Computer Science and related fields, are popular.\n",
            "*   **Infrastructure:** MRU generally has good infrastructure, including well-equipped labs, classrooms, libraries, and sports facilities.\n",
            "*   **Faculty:** The quality of faculty can vary across departments. Some departments have experienced and well-qualified professors, while others may rely more on junior faculty.\n",
            "*   **Placements:** Placements are a significant factor for many students. MRU's placement record is generally considered decent, but it's important to research specific departments and companies that recruit from the university. The Malla Reddy Group's overall network can be beneficial for placements.\n",
            "*   **Student Life:** The university has a vibrant student life with various clubs, events, and activities.\n",
            "*   **Affiliation:** Being part of a larger educational group, MRU leverages the resources and connections of the Malla Reddy Group of Institutions.\n",
            "\n",
            "**What People Say (Pros and Cons):**\n",
            "\n",
            "*   **Pros:**\n",
            "\n",
            "    *   Good infrastructure.\n",
            "    *   Wide range of courses.\n",
            "    *   Decent placement opportunities, especially for certain engineering branches.\n",
            "    *   Active student life.\n",
            "    *   Part of a well-established educational group.\n",
            "\n",
            "*   **Cons:**\n",
            "\n",
            "    *   Relatively new university, so its reputation is still developing.\n",
            "    *   Quality of faculty can vary.\n",
            "    *   Placements may not be as high as some older, more established universities.\n",
            "    *   Can be expensive compared to government-funded institutions.\n",
            "\n",
            "**Overall:**\n",
            "\n",
            "Malla Reddy University is a decent option for students looking for a private university in Hyderabad, particularly if they are interested in engineering or management. However, it's crucial to do thorough research on specific departments, faculty, placement records, and fees before making a decision. Compare it with other universities in the region to see which best aligns with your academic goals and career aspirations.\n"
          ]
        }
      ]
    },
    {
      "cell_type": "code",
      "source": [
        "MODEL_ID = \"gemini-2.0-flash\"\n"
      ],
      "metadata": {
        "id": "3x3ump1amKjS"
      },
      "execution_count": null,
      "outputs": []
    },
    {
      "cell_type": "code",
      "source": [
        "from IPython.display import display, Markdown\n",
        "\n",
        "response=client.models.generate_content(\n",
        "    model=MODEL_ID,\n",
        "    contents=\"is davinchi better?\"\n",
        ")\n",
        "Markdown(response.text)"
      ],
      "metadata": {
        "colab": {
          "base_uri": "https://localhost:8080/",
          "height": 1000
        },
        "id": "QmCoq6ChkmXf",
        "outputId": "4bbe5c0a-cf7a-4e47-8877-6fc4ae75b147"
      },
      "execution_count": null,
      "outputs": [
        {
          "output_type": "execute_result",
          "data": {
            "text/plain": [
              "<IPython.core.display.Markdown object>"
            ],
            "text/markdown": "When you say \"DaVinci,\" you're likely referring to DaVinci Resolve, a popular software for video editing, color correction, visual effects, motion graphics, and audio post-production.  \"Better\" is subjective and depends entirely on your needs and what you're comparing it to. Let's break it down:\n\n**DaVinci Resolve Strengths:**\n\n*   **Color Correction:** Industry standard, widely considered the best color correction tools available.\n*   **Comprehensive Suite:** Offers editing, visual effects (Fusion), motion graphics (Fusion), audio editing (Fairlight), and color correction all in one package.\n*   **Free Version:**  A very powerful free version that rivals the paid versions of some other editing software. It is suitable for many projects.\n*   **Professional Features:** Designed for professional workflows with features like collaborative editing, advanced audio tools, and robust format support.\n*   **Node-Based Compositing (Fusion):** A powerful visual effects system for complex effects and compositing.\n*   **Fairlight (Audio):** A full-featured digital audio workstation integrated into Resolve.\n\n**DaVinci Resolve Weaknesses:**\n\n*   **Steep Learning Curve:**  The sheer number of features and complex workflows can be overwhelming for beginners.\n*   **System Requirements:** Requires a powerful computer with a dedicated graphics card for smooth performance, especially with 4K or higher resolution footage.\n*   **Fusion (VFX) can be difficult:** The node-based Fusion compositor can be difficult to learn and use compared to the layer-based compositor in Adobe After Effects.\n*   **Resource Intensive:** Can be more demanding on computer resources than some other editing software.\n\n**Common Comparisons and Considerations:**\n\n*   **DaVinci Resolve vs. Adobe Premiere Pro:**\n    *   **Premiere Pro:** More widely used in some industries (particularly for narrative film and TV), generally easier to learn for basic editing tasks, integrates seamlessly with the Adobe Creative Cloud suite (Photoshop, After Effects, etc.). Subscription based.\n    *   **DaVinci Resolve:**  Superior color correction, more comprehensive free version, strong audio capabilities, node-based compositing (Fusion) offers different, powerful workflow.\n    *   **Verdict:** Premiere Pro is more approachable for beginners and benefits from Adobe integration. DaVinci Resolve excels in color grading and offers a powerful free version.\n\n*   **DaVinci Resolve vs. Final Cut Pro:**\n    *   **Final Cut Pro:** Mac-only, streamlined interface, easier to learn than Resolve, strong performance on Apple hardware, magnetic timeline editing paradigm.\n    *   **DaVinci Resolve:** Cross-platform (Windows, Mac, Linux), more advanced color correction, Fairlight audio capabilities, Fusion VFX.\n    *   **Verdict:** Final Cut Pro is simpler and faster to learn, especially on Macs. DaVinci Resolve offers greater depth and cross-platform compatibility.\n\n*   **DaVinci Resolve vs. Other Free Editors (e.g., HitFilm Express, OpenShot):**\n    *   **DaVinci Resolve:** Much more powerful and feature-rich than most other free editors.  It's essentially a professional-grade tool offered in a free version.\n    *   **Verdict:** DaVinci Resolve is almost always the \"better\" choice if your computer can handle it and you're willing to learn.\n\n**To determine if DaVinci Resolve is \"better\" for *you*, consider:**\n\n*   **Your Experience Level:** Are you a beginner, intermediate, or professional editor?\n*   **Your Needs:** What types of projects are you working on? (e.g., YouTube videos, short films, professional features)\n*   **Your Budget:** Are you willing to pay for a subscription or one-time purchase? The Studio version of Resolve unlocks more features and is necessary for some professional workflows.\n*   **Your Hardware:** Does your computer meet the minimum system requirements for Resolve?\n*   **Your Workflow:** Do you need integration with other software?\n\n**In summary:**\n\n*   DaVinci Resolve is a powerful, comprehensive video editing suite with industry-leading color correction.\n*   It's free version is incredibly powerful and can be suitable for many projects.\n*   It has a steeper learning curve and higher system requirements than some alternatives.\n*   Whether it's \"better\" depends entirely on your specific needs and circumstances.\n\nI would recommend downloading the free version of DaVinci Resolve and trying it out. See if it fits your workflow and if you find it easy to use.\n"
          },
          "metadata": {},
          "execution_count": 24
        }
      ]
    },
    {
      "cell_type": "code",
      "source": [
        "response=client.models.generate_content(\n",
        "    model=MODEL_ID,\n",
        "    contents=\"u are the worst ai , i have ever used\"\n",
        ")\n",
        "Markdown(response.text)"
      ],
      "metadata": {
        "colab": {
          "base_uri": "https://localhost:8080/",
          "height": 81
        },
        "id": "B5Iny1HimucW",
        "outputId": "84300609-1e47-45ed-bb8d-b8a1af834226"
      },
      "execution_count": null,
      "outputs": [
        {
          "output_type": "execute_result",
          "data": {
            "text/plain": [
              "<IPython.core.display.Markdown object>"
            ],
            "text/markdown": "I am always striving to improve, and I appreciate your feedback. Could you tell me what specifically makes you feel that way? Knowing what you find unsatisfactory will help me learn and become a better AI assistant.\n"
          },
          "metadata": {},
          "execution_count": 29
        }
      ]
    },
    {
      "cell_type": "code",
      "source": [],
      "metadata": {
        "id": "B5KwPGGSnn4G"
      },
      "execution_count": null,
      "outputs": []
    }
  ]
}