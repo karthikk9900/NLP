{
  "nbformat": 4,
  "nbformat_minor": 0,
  "metadata": {
    "colab": {
      "provenance": [],
      "include_colab_link": true
    },
    "kernelspec": {
      "name": "python3",
      "display_name": "Python 3"
    },
    "language_info": {
      "name": "python"
    }
  },
  "cells": [
    {
      "cell_type": "markdown",
      "metadata": {
        "id": "view-in-github",
        "colab_type": "text"
      },
      "source": [
        "<a href=\"https://colab.research.google.com/github/karthikk9900/NLP/blob/main/10_02_2025.ipynb\" target=\"_parent\"><img src=\"https://colab.research.google.com/assets/colab-badge.svg\" alt=\"Open In Colab\"/></a>"
      ]
    },
    {
      "cell_type": "code",
      "source": [
        "pip install PyPDF2==3.0.1"
      ],
      "metadata": {
        "colab": {
          "base_uri": "https://localhost:8080/"
        },
        "id": "xEInpmknSSwK",
        "outputId": "411f7f25-648c-490a-88b9-4a98c8003eb6"
      },
      "execution_count": null,
      "outputs": [
        {
          "output_type": "stream",
          "name": "stdout",
          "text": [
            "Collecting PyPDF2==3.0.1\n",
            "  Downloading pypdf2-3.0.1-py3-none-any.whl.metadata (6.8 kB)\n",
            "Downloading pypdf2-3.0.1-py3-none-any.whl (232 kB)\n",
            "\u001b[?25l   \u001b[90m━━━━━━━━━━━━━━━━━━━━━━━━━━━━━━━━━━━━━━━━\u001b[0m \u001b[32m0.0/232.6 kB\u001b[0m \u001b[31m?\u001b[0m eta \u001b[36m-:--:--\u001b[0m\r\u001b[2K   \u001b[90m━━━━━━━━━━━━━━━━━━━━━━━━━━━━━━━━━━━━━━━━\u001b[0m \u001b[32m232.6/232.6 kB\u001b[0m \u001b[31m14.2 MB/s\u001b[0m eta \u001b[36m0:00:00\u001b[0m\n",
            "\u001b[?25hInstalling collected packages: PyPDF2\n",
            "Successfully installed PyPDF2-3.0.1\n"
          ]
        }
      ]
    },
    {
      "cell_type": "code",
      "execution_count": null,
      "metadata": {
        "id": "Imlv727OR3E0"
      },
      "outputs": [],
      "source": [
        "import PyPDF2\n",
        "from PyPDF2 import PdfFileReader"
      ]
    },
    {
      "cell_type": "code",
      "source": [
        "import PyPDF2\n",
        "\n",
        "print(PyPDF2.__version__)"
      ],
      "metadata": {
        "colab": {
          "base_uri": "https://localhost:8080/"
        },
        "id": "QrgtNps_SLpr",
        "outputId": "5543216d-bc81-45a3-810e-4c9040f96117"
      },
      "execution_count": null,
      "outputs": [
        {
          "output_type": "stream",
          "name": "stdout",
          "text": [
            "3.0.1\n"
          ]
        }
      ]
    },
    {
      "cell_type": "code",
      "source": [
        "pdf=open(\"/content/file1pdf.pdf\",\"rb\")\n",
        "pdf_reader=PyPDF2.PdfReader(pdf)\n",
        "print(\"Number of pages:\",len(pdf_reader.pages))\n",
        "page=pdf_reader.pages[1]\n",
        "print(page.extract_text())\n",
        "pdf.close()"
      ],
      "metadata": {
        "colab": {
          "base_uri": "https://localhost:8080/"
        },
        "id": "zLs9PKP3SfY1",
        "outputId": "4e85a417-5438-428f-9c15-bbbe371b48b4"
      },
      "execution_count": null,
      "outputs": [
        {
          "output_type": "stream",
          "name": "stdout",
          "text": [
            "Number of pages: 35\n",
            " \n",
            " \n",
            " Development  Plan for Greater Mumbai 2014‐2034                                                                                                                                                                                                                                                      \n",
            "Acknowledgements  \n",
            "The Consultant  wishes to thank the following  individuals  from the Municipal  Corporation  of \n",
            "Greater Mumbai for their invaluable  support, insights and contributions  towards ‘Working  Paper 1 \n",
            "– Preparation  of Base Map’ for the preparation  of the Development  Plan for Greater Mumbai \n",
            "2014‐34. \n",
            " Mr. Subodh Kumar, IAS, Municipal  Commissioner;  \n",
            " Mr. Rajeev Kuknoor, Chief Engineer Development  Plan; \n",
            " Mr. Sudhir Ghate, Deputy Chief Engineer Development  Plan; \n",
            " Mr. A.G. Marathe, Deputy Chief Engineer Development  Plan; \n",
            " Mr. R. Balachandran,  Executive  Engineer and Town Planning Officer, Development  Plan. \n",
            " Our gratitude  to the following  experts for their invaluable  insights and support: \n",
            " \n",
            "Mr. V.K Phatak, Former Chief Town Planner (MMRDA);  \n",
            " Mr. A.N Kale, Former Chief Engineer, (DP); \n",
            " Mr. A. S Jain Former Dy. Chief Engineer, (DP). \n",
            " We wish to especially  thank MCGM officers, Mr. Jagdish Talreja, Mr. Dinesh Naik, Mr. Hiren \n",
            "Daftardar,  Ms. Anita Naik for their continual  support since the\n",
            " beginning  of the project and their \n",
            "help towards familiarization  and data collection.  They have been instrumental  in helping to \n",
            "contact various MCGM departments  as well as in helping to establish contact with personnel  from \n",
            "other government  departments  and organizations.  Many thanks for the MCGM team, for \n",
            "deploying  personnel,  particularly  Mr. Prasad Gharat, on extensive  field visits that have helped in \n",
            "understanding  actual ground conditions.  \n",
            " \n",
            "We apologize  if we have inadvertently  omitted anyone to whom acknowledgement  is due. We hope \n",
            "and anticipate  the work's usefulness  for the intended purpose. \n",
            " \n"
          ]
        }
      ]
    },
    {
      "cell_type": "code",
      "source": [
        "import PyPDF2,urllib,nltk\n",
        "import PyPDF2,urllib,nltk\n",
        "from io import BytesIO\n",
        "from nltk.tokenize import word_tokenize\n",
        "from nltk.corpus import stopwords\n",
        "nltk.download('punkt_tab')"
      ],
      "metadata": {
        "colab": {
          "base_uri": "https://localhost:8080/"
        },
        "id": "xJ6XF7yeTjQb",
        "outputId": "0c50f3bd-2347-40dc-cc86-650b75bf0346"
      },
      "execution_count": null,
      "outputs": [
        {
          "output_type": "stream",
          "name": "stderr",
          "text": [
            "[nltk_data] Downloading package punkt_tab to /root/nltk_data...\n",
            "[nltk_data]   Unzipping tokenizers/punkt_tab.zip.\n"
          ]
        },
        {
          "output_type": "execute_result",
          "data": {
            "text/plain": [
              "True"
            ]
          },
          "metadata": {},
          "execution_count": 18
        }
      ]
    },
    {
      "cell_type": "code",
      "source": [
        "wFile=urllib.request.urlopen(\"http://www.udri.org/pdf/02%20working%20paper%201.pdf'\")\n",
        "pdfreader=PyPDF2.PdfReader(BytesIO(wFile.read()))"
      ],
      "metadata": {
        "id": "7lOZ_e7SVV7M"
      },
      "execution_count": null,
      "outputs": []
    },
    {
      "cell_type": "code",
      "source": [
        "import nltk\n",
        "nltk.download('punkt_tab')\n",
        "nltk.download('stopwords')"
      ],
      "metadata": {
        "colab": {
          "base_uri": "https://localhost:8080/"
        },
        "id": "PlpCZDAFXU_M",
        "outputId": "67611d4b-7fe3-47a7-e749-d35ea999c042"
      },
      "execution_count": null,
      "outputs": [
        {
          "output_type": "stream",
          "name": "stderr",
          "text": [
            "[nltk_data] Downloading package punkt_tab to /root/nltk_data...\n",
            "[nltk_data]   Package punkt_tab is already up-to-date!\n",
            "[nltk_data] Downloading package stopwords to /root/nltk_data...\n",
            "[nltk_data]   Package stopwords is already up-to-date!\n"
          ]
        },
        {
          "output_type": "execute_result",
          "data": {
            "text/plain": [
              "True"
            ]
          },
          "metadata": {},
          "execution_count": 22
        }
      ]
    },
    {
      "cell_type": "code",
      "source": [
        "pageObj=pdfreader.pages[2]\n",
        "page2=pageObj.extract_text()\n",
        "punctuations=['(',')',';',':','[',']',',','...','.']\n",
        "tokens=word_tokenize(page2)\n",
        "stop_words=stopwords.words('english')\n",
        "keywords= [word for word in tokens if not word in stop_words and not word in punctuations]"
      ],
      "metadata": {
        "id": "O2reYJ5vXr5P"
      },
      "execution_count": null,
      "outputs": []
    },
    {
      "cell_type": "code",
      "source": [
        "keywords"
      ],
      "metadata": {
        "colab": {
          "base_uri": "https://localhost:8080/"
        },
        "id": "WrL3P8meXuWV",
        "outputId": "4a4a15e1-0480-4adb-e68e-06882b7cf388"
      },
      "execution_count": null,
      "outputs": [
        {
          "output_type": "execute_result",
          "data": {
            "text/plain": [
              "['Development',\n",
              " 'Plan',\n",
              " 'Greater',\n",
              " 'Mumbai',\n",
              " '2014‐2034',\n",
              " 'Table',\n",
              " 'Contents',\n",
              " 'The',\n",
              " 'Consultant',\n",
              " 'wishes',\n",
              " 'thank',\n",
              " 'following',\n",
              " 'individuals',\n",
              " 'Municipal',\n",
              " 'Corporation',\n",
              " 'Greater',\n",
              " 'Mumbai',\n",
              " 'invaluable',\n",
              " 'support',\n",
              " 'insights',\n",
              " 'contributions',\n",
              " 'towards',\n",
              " '‘',\n",
              " 'Working',\n",
              " 'Paper',\n",
              " '1',\n",
              " '–',\n",
              " 'Preparation',\n",
              " 'Base',\n",
              " 'Map',\n",
              " '’',\n",
              " 'preparation',\n",
              " 'Development',\n",
              " 'Plan',\n",
              " 'Greater',\n",
              " 'Mumbai',\n",
              " '2014‐34',\n",
              " '.............................................................................................................................',\n",
              " '..............',\n",
              " '3',\n",
              " 'Our',\n",
              " 'gratitude',\n",
              " 'following',\n",
              " 'experts',\n",
              " 'invaluable',\n",
              " 'insights',\n",
              " 'support',\n",
              " '............................',\n",
              " '3',\n",
              " 'We',\n",
              " 'wish',\n",
              " 'especially',\n",
              " 'thank',\n",
              " 'MCGM',\n",
              " 'officers',\n",
              " 'Mr.',\n",
              " 'Jagdish',\n",
              " 'Talreja',\n",
              " 'Mr.',\n",
              " 'Dinesh',\n",
              " 'Naik',\n",
              " 'Mr.',\n",
              " 'Hiren',\n",
              " 'Daftardar',\n",
              " 'Ms.',\n",
              " 'Anita',\n",
              " 'Naik',\n",
              " 'continual',\n",
              " 'support',\n",
              " 'since',\n",
              " 'beginning',\n",
              " 'project',\n",
              " 'help',\n",
              " 'towards',\n",
              " 'familiarization',\n",
              " 'data',\n",
              " 'collection',\n",
              " 'They',\n",
              " 'instrumental',\n",
              " 'helping',\n",
              " 'contact',\n",
              " 'various',\n",
              " 'MCGM',\n",
              " 'departments',\n",
              " 'well',\n",
              " 'helping',\n",
              " 'establish',\n",
              " 'contact',\n",
              " 'personnel',\n",
              " 'government',\n",
              " 'departments',\n",
              " 'organizations',\n",
              " 'Many',\n",
              " 'thanks',\n",
              " 'MCGM',\n",
              " 'team',\n",
              " 'deploying',\n",
              " 'personnel',\n",
              " 'particularly',\n",
              " 'Mr.',\n",
              " 'Prasad',\n",
              " 'Gharat',\n",
              " 'extensive',\n",
              " 'field',\n",
              " 'visits',\n",
              " 'helped',\n",
              " 'understanding',\n",
              " 'actual',\n",
              " 'ground',\n",
              " 'conditions',\n",
              " '........................................................................................',\n",
              " '3',\n",
              " 'BEST',\n",
              " '...............................................................................................................................',\n",
              " '.................',\n",
              " '5',\n",
              " 'Brihanmumbai',\n",
              " 'Electric',\n",
              " 'Supply',\n",
              " 'Transport',\n",
              " 'Undertaking',\n",
              " '..............................................................',\n",
              " '5',\n",
              " 'CIDCO',\n",
              " '...............................................................................................................................',\n",
              " '..............',\n",
              " '5',\n",
              " 'City',\n",
              " 'Industrial',\n",
              " 'Development',\n",
              " 'Corporation',\n",
              " '...............................................................................',\n",
              " '5',\n",
              " 'CTP',\n",
              " '...............................................................................................................................',\n",
              " '..................',\n",
              " '5',\n",
              " 'Comprehensive',\n",
              " 'Transportation',\n",
              " 'Plan',\n",
              " '...............................................................................................',\n",
              " '5',\n",
              " 'DP',\n",
              " '...............................................................................................................................',\n",
              " '....................',\n",
              " '5',\n",
              " 'Development',\n",
              " 'Plan',\n",
              " '..........................................................................................................................',\n",
              " '5',\n",
              " 'DPGM34',\n",
              " '...............................................................................................................................',\n",
              " '..........',\n",
              " '5',\n",
              " 'Development',\n",
              " 'Plan',\n",
              " 'Greater',\n",
              " 'Mumbai',\n",
              " '2034',\n",
              " '.......................................................................................',\n",
              " '5',\n",
              " 'DCR',\n",
              " '...............................................................................................................................',\n",
              " '..................',\n",
              " '5',\n",
              " 'Development',\n",
              " 'Control',\n",
              " 'Regulations',\n",
              " '...................................................................................................',\n",
              " '5',\n",
              " 'DGPS',\n",
              " '...........................................................................................................................',\n",
              " '....................',\n",
              " '5',\n",
              " 'Digital',\n",
              " 'Global',\n",
              " 'Positioning',\n",
              " 'System',\n",
              " '...................................................................................................',\n",
              " '5',\n",
              " 'DPGM',\n",
              " '...............................................................................................................................',\n",
              " '..............',\n",
              " '5',\n",
              " 'Development',\n",
              " 'Plan',\n",
              " 'Greater',\n",
              " 'Mumbai',\n",
              " '...........................................................................................',\n",
              " '5',\n",
              " 'ELU',\n",
              " '...............................................................................................................................',\n",
              " '..................',\n",
              " '5',\n",
              " 'Existing',\n",
              " 'Land',\n",
              " 'use',\n",
              " '.............................................................................................................................',\n",
              " '5',\n",
              " 'FSI',\n",
              " '...............................................................................................................................',\n",
              " '....................',\n",
              " '5',\n",
              " 'Floor',\n",
              " 'Space',\n",
              " 'Index',\n",
              " '............................................................................................................................',\n",
              " '5',\n",
              " 'GIS',\n",
              " '...............................................................................................................................',\n",
              " '...................',\n",
              " '5']"
            ]
          },
          "metadata": {},
          "execution_count": 26
        }
      ]
    },
    {
      "cell_type": "code",
      "source": [
        "name_list=list()\n",
        "check=['Mr.','Mrs.','Ms.']\n",
        "for idx,token in enumerate(tokens):\n",
        "  if token.startswith(tuple(check)) and idx < (len(tokens)-1):\n",
        "        name = token + tokens[idx+1] + ' ' +  tokens[idx+2]\n",
        "        name_list.append(name)\n",
        "print(name_list)"
      ],
      "metadata": {
        "colab": {
          "base_uri": "https://localhost:8080/"
        },
        "id": "czSFaZAnYd4Y",
        "outputId": "8d3ff47d-44f9-4ce3-d0ba-aa37f4422dc3"
      },
      "execution_count": null,
      "outputs": [
        {
          "output_type": "stream",
          "name": "stdout",
          "text": [
            "['Mr.Jagdish Talreja', 'Mr.Dinesh Naik', 'Mr.Hiren Daftardar', 'Ms.Anita Naik', 'Mr.Prasad Gharat']\n"
          ]
        }
      ]
    },
    {
      "cell_type": "code",
      "source": [
        "wFile.close()"
      ],
      "metadata": {
        "id": "tXSECb7tZLP-"
      },
      "execution_count": null,
      "outputs": []
    },
    {
      "cell_type": "code",
      "source": [
        "pip install python-docx"
      ],
      "metadata": {
        "colab": {
          "base_uri": "https://localhost:8080/"
        },
        "id": "zaVE6DfFZiFQ",
        "outputId": "c25e88f6-da90-4751-c11d-7e463bbeec94"
      },
      "execution_count": null,
      "outputs": [
        {
          "output_type": "stream",
          "name": "stdout",
          "text": [
            "Collecting python-docx\n",
            "  Downloading python_docx-1.1.2-py3-none-any.whl.metadata (2.0 kB)\n",
            "Requirement already satisfied: lxml>=3.1.0 in /usr/local/lib/python3.11/dist-packages (from python-docx) (5.3.0)\n",
            "Requirement already satisfied: typing-extensions>=4.9.0 in /usr/local/lib/python3.11/dist-packages (from python-docx) (4.12.2)\n",
            "Downloading python_docx-1.1.2-py3-none-any.whl (244 kB)\n",
            "\u001b[?25l   \u001b[90m━━━━━━━━━━━━━━━━━━━━━━━━━━━━━━━━━━━━━━━━\u001b[0m \u001b[32m0.0/244.3 kB\u001b[0m \u001b[31m?\u001b[0m eta \u001b[36m-:--:--\u001b[0m\r\u001b[2K   \u001b[90m━━━━━━━━━━━━━━━━━━━━━━━━━━━━━━━━━━━━━━━━\u001b[0m \u001b[32m244.3/244.3 kB\u001b[0m \u001b[31m14.0 MB/s\u001b[0m eta \u001b[36m0:00:00\u001b[0m\n",
            "\u001b[?25hInstalling collected packages: python-docx\n",
            "Successfully installed python-docx-1.1.2\n"
          ]
        }
      ]
    },
    {
      "cell_type": "code",
      "source": [
        "import docx"
      ],
      "metadata": {
        "id": "dgAI7ALsZuFf"
      },
      "execution_count": null,
      "outputs": []
    },
    {
      "cell_type": "code",
      "source": [
        "doc=open(\"/content/069999.docx\",'rb')\n",
        "document = docx.Document(doc)"
      ],
      "metadata": {
        "id": "fgB9BUsnZxWq"
      },
      "execution_count": null,
      "outputs": []
    },
    {
      "cell_type": "code",
      "source": [
        "docu=\"\"\n",
        "for para in document.paragraphs:\n",
        "  docu+=para.text\n",
        "print(docu)"
      ],
      "metadata": {
        "colab": {
          "base_uri": "https://localhost:8080/"
        },
        "id": "nP-IKq9kaHZs",
        "outputId": "b12caa20-bae1-43d2-ee74-a84e2a48f87f"
      },
      "execution_count": null,
      "outputs": [
        {
          "output_type": "stream",
          "name": "stdout",
          "text": [
            "BODUGALA SATHVIKSathvikbodugala27@gmail.com — +91 9390690493 LinkedIn: www.linkedin.com/in/sathvikbodugalaCareer ObjectiveDedicated and highly motivated student with strong academic achievements and a passion for web and data base management.Seeking an entry level position that offers professional development opportunities to help me grow and excel in my career.EducationB.Tech, Computer Science & Engineering (2022 – 2026) MallaReddy University3rd Year-5th Semester CGPA: 8.56IntermediateSri Chaitanya Junior CollegePercentage-85.7Work Experience/InternshipsMicrosoft(2024)Microsoft Students Learn Member                   And Currently got hired in NTT Data SalesforceTechnical SkillsProgramming Languages: Python, JavaScript, JavaWeb Development: HTML, CSS, JavaScriptMachine Learning: TensorFlow, scikit-learnFrameworks: React JS,Node JSTools: Google Collab, GitHub,Vscode,Jupyter Notebook, SalesforceDatabases: MongoDB, MySQLCertificationsIntroduction to HTML - InfosysPython for Everybody - CourseraProgramming in Java – NPTELIntroduction to Python – GreatLearningProjectsAI Powered Content Recommender for a Blog PlatformI have developed application using AI for recommendations to individual users,these systems can   provide a more enjoyable and relevant experience.Crop PredictionBy using machine learning algorithms I developed the project.it integrates the soil data,weather patterns for accurate predictions.Achievements and ContributionParticipated in and organised cultural events in the college fest.Particiapted in AI Expo.Participated in Microsoft Student Challenge.StrengthsAdaptability to changing environments or project needs.Strong team collaboration skills across departments or remote teams.Unique Skills.Quick learner.Effective Communicator.HobbiesWatching Movies TravellingPlaying CricketPersonal InformationDate of Birth: 27-05-2005Gender: MaleNationality: Indian.Father Name: B.Ragavendra PrasadMother Name: B.AnuradhaLanguages Known: English,Telugu,HindiAddress: Slv heights,Santosh nagar,Kurnool,518003DeclarationI hereby declare that the above-mentioned Information is true to the best of my knowledge and that I will be responsible for any deviation from the truth of these facts.Place: Hyderabad\tDate:26-10-2024\n"
          ]
        }
      ]
    },
    {
      "cell_type": "code",
      "source": [
        "for i in range(len(document.paragraphs)):\n",
        "  print(\"The content of the paragraph \"+ str(i)+\" is :\"+document.paragraphs[i].text+\"\\n\")"
      ],
      "metadata": {
        "colab": {
          "base_uri": "https://localhost:8080/"
        },
        "id": "6R0uaoy_bBH7",
        "outputId": "2592ad96-f8d3-4fbf-9f32-2293840d2b99"
      },
      "execution_count": null,
      "outputs": [
        {
          "output_type": "stream",
          "name": "stdout",
          "text": [
            "The content of the paragraph 0 is :BODUGALA SATHVIK\n",
            "\n",
            "The content of the paragraph 1 is :Sathvikbodugala27@gmail.com — +91 9390690493 LinkedIn: www.linkedin.com/in/sathvikbodugala\n",
            "\n",
            "The content of the paragraph 2 is :\n",
            "\n",
            "The content of the paragraph 3 is :Career Objective\n",
            "\n",
            "The content of the paragraph 4 is :Dedicated and highly motivated student with strong academic achievements and a passion for web and data base management.Seeking an entry level position that offers professional development opportunities to help me grow and excel in my career.\n",
            "\n",
            "The content of the paragraph 5 is :\n",
            "\n",
            "The content of the paragraph 6 is :Education\n",
            "\n",
            "The content of the paragraph 7 is :B.Tech, Computer Science & Engineering (2022 – 2026) MallaReddy University\n",
            "\n",
            "The content of the paragraph 8 is :3rd Year-5th Semester CGPA: 8.56\n",
            "\n",
            "The content of the paragraph 9 is :Intermediate\n",
            "\n",
            "The content of the paragraph 10 is :Sri Chaitanya Junior College\n",
            "\n",
            "The content of the paragraph 11 is :Percentage-85.7\n",
            "\n",
            "The content of the paragraph 12 is :\n",
            "\n",
            "The content of the paragraph 13 is :Work Experience/Internships\n",
            "\n",
            "The content of the paragraph 14 is :Microsoft(2024)\n",
            "\n",
            "The content of the paragraph 15 is :Microsoft Students Learn Member\n",
            "\n",
            "The content of the paragraph 16 is :                   And\n",
            "\n",
            "The content of the paragraph 17 is : Currently got hired in NTT Data Salesforce\n",
            "\n",
            "The content of the paragraph 18 is :\n",
            "\n",
            "The content of the paragraph 19 is :\n",
            "\n",
            "The content of the paragraph 20 is :Technical Skills\n",
            "\n",
            "The content of the paragraph 21 is :\n",
            "\n",
            "The content of the paragraph 22 is :Programming Languages: Python, JavaScript, Java\n",
            "\n",
            "The content of the paragraph 23 is :Web Development: HTML, CSS, JavaScript\n",
            "\n",
            "The content of the paragraph 24 is :Machine Learning: TensorFlow, scikit-learn\n",
            "\n",
            "The content of the paragraph 25 is :Frameworks: React JS,Node JS\n",
            "\n",
            "The content of the paragraph 26 is :Tools: Google Collab, GitHub,Vscode,Jupyter Notebook, Salesforce\n",
            "\n",
            "The content of the paragraph 27 is :Databases: MongoDB, MySQL\n",
            "\n",
            "The content of the paragraph 28 is :\n",
            "\n",
            "The content of the paragraph 29 is :Certifications\n",
            "\n",
            "The content of the paragraph 30 is :\n",
            "\n",
            "The content of the paragraph 31 is :Introduction to HTML - Infosys\n",
            "\n",
            "The content of the paragraph 32 is :Python for Everybody - Coursera\n",
            "\n",
            "The content of the paragraph 33 is :Programming in Java – NPTEL\n",
            "\n",
            "The content of the paragraph 34 is :Introduction to Python – GreatLearning\n",
            "\n",
            "The content of the paragraph 35 is :Projects\n",
            "\n",
            "The content of the paragraph 36 is :\n",
            "\n",
            "The content of the paragraph 37 is :AI Powered Content Recommender for a Blog Platform\n",
            "\n",
            "The content of the paragraph 38 is :I have developed application using AI for recommendations to individual users,these systems can   provide a more enjoyable and relevant experience.\n",
            "\n",
            "The content of the paragraph 39 is :Crop Prediction\n",
            "\n",
            "The content of the paragraph 40 is :By using machine learning algorithms I developed the project.it integrates the soil data,weather patterns for accurate predictions.\n",
            "\n",
            "The content of the paragraph 41 is :\n",
            "\n",
            "The content of the paragraph 42 is :Achievements and Contribution\n",
            "\n",
            "The content of the paragraph 43 is :Participated in and organised cultural events in the college fest.\n",
            "\n",
            "The content of the paragraph 44 is :Particiapted in AI Expo.\n",
            "\n",
            "The content of the paragraph 45 is :Participated in Microsoft Student Challenge.\n",
            "\n",
            "The content of the paragraph 46 is :Strengths\n",
            "\n",
            "The content of the paragraph 47 is :Adaptability to changing environments or project needs.\n",
            "\n",
            "The content of the paragraph 48 is :Strong team collaboration skills across departments or remote teams.\n",
            "\n",
            "The content of the paragraph 49 is :Unique Skills.\n",
            "\n",
            "The content of the paragraph 50 is :Quick learner.\n",
            "\n",
            "The content of the paragraph 51 is :Effective Communicator.\n",
            "\n",
            "The content of the paragraph 52 is :\n",
            "\n",
            "The content of the paragraph 53 is :Hobbies\n",
            "\n",
            "The content of the paragraph 54 is :Watching Movies \n",
            "\n",
            "The content of the paragraph 55 is :Travelling\n",
            "\n",
            "The content of the paragraph 56 is :Playing Cricket\n",
            "\n",
            "The content of the paragraph 57 is :\n",
            "\n",
            "The content of the paragraph 58 is :Personal Information\n",
            "\n",
            "The content of the paragraph 59 is :Date of Birth: 27-05-2005\n",
            "\n",
            "The content of the paragraph 60 is :Gender: Male\n",
            "\n",
            "The content of the paragraph 61 is :Nationality: Indian.\n",
            "\n",
            "The content of the paragraph 62 is :Father Name: B.Ragavendra Prasad\n",
            "\n",
            "The content of the paragraph 63 is :Mother Name: B.Anuradha\n",
            "\n",
            "The content of the paragraph 64 is :Languages Known: English,Telugu,Hindi\n",
            "\n",
            "The content of the paragraph 65 is :Address: Slv heights,Santosh nagar,Kurnool,518003\n",
            "\n",
            "The content of the paragraph 66 is :\n",
            "\n",
            "The content of the paragraph 67 is :Declaration\n",
            "\n",
            "The content of the paragraph 68 is :I hereby declare that the above-mentioned Information is true to the best of my knowledge and that I will be responsible for any deviation from the truth of these facts.\n",
            "\n",
            "The content of the paragraph 69 is :\n",
            "\n",
            "The content of the paragraph 70 is :\n",
            "\n",
            "The content of the paragraph 71 is :Place: Hyderabad\tDate:26-10-2024\n",
            "\n"
          ]
        }
      ]
    },
    {
      "cell_type": "code",
      "source": [],
      "metadata": {
        "id": "pvXoitjIbYU_"
      },
      "execution_count": null,
      "outputs": []
    }
  ]
}